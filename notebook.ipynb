{
 "cells": [
  {
   "cell_type": "markdown",
   "metadata": {},
   "source": [
    "Importando Spark e CSV"
   ]
  },
  {
   "cell_type": "code",
   "execution_count": 8,
   "metadata": {},
   "outputs": [],
   "source": [
    "import findspark\n",
    "import shutil\n",
    "import glob\n",
    "import os\n",
    "findspark.init()\n",
    "from pyspark.sql import functions as F\n",
    "\n",
    "from pyspark.sql import SparkSession\n",
    "from pyspark.sql.functions import concat\n",
    "from pyspark.sql.functions import col\n",
    "\n",
    "# Criar a sessão Spark de forma mais simples\n",
    "spark = SparkSession.builder \\\n",
    "    .appName(\"TestePySpark\") \\\n",
    "    .master(\"local[*]\") \\\n",
    "    .getOrCreate()\n",
    "\n",
    "caminho_csv = \"dados/dados_gol.csv\""
   ]
  },
  {
   "cell_type": "markdown",
   "metadata": {},
   "source": [
    "Leitura do CSV e criando um dataframe correto"
   ]
  },
  {
   "cell_type": "code",
   "execution_count": 9,
   "metadata": {},
   "outputs": [],
   "source": [
    "with open(caminho_csv, \"r\", encoding=\"utf-8\") as file:\n",
    "    lines = file.readlines()\n",
    "\n",
    "colunas = lines[1].strip().split(\";\")\n",
    "\n",
    "colunas = [col.strip('\"') for col in colunas]\n",
    "\n",
    "novo_caminho_csv = \"dados/dados_sem_data.csv\"\n",
    "with open(novo_caminho_csv, \"w\", encoding=\"utf-8\") as file:\n",
    "    file.writelines(lines[2:]) \n",
    "\n",
    "\n",
    "df = spark.read.option(\"header\", \"true\").option(\"delimiter\", \";\").csv(novo_caminho_csv)\n",
    "\n",
    "df = df.toDF(*colunas)"
   ]
  },
  {
   "cell_type": "markdown",
   "metadata": {},
   "source": [
    "Aplicando o Filtro"
   ]
  },
  {
   "cell_type": "code",
   "execution_count": 10,
   "metadata": {},
   "outputs": [
    {
     "name": "stdout",
     "output_type": "stream",
     "text": [
      "+-------------+---------------------------------------------------+---------------------+----+---+-------------------------+------------------------+----------------------+--------------------------+------------------------+------------------------------+--------------------------+-------------------------+-----------------------+---------------------------+-------------------------+-------------------------------+---------+------------+-----------------+------------------+-------------+---------------+----------+-------+-------+------+------+------------------+------------------+----------+-------------+---------------+----------+--------+-------+------------+----------+\n",
      "|EMPRESA_SIGLA|EMPRESA_NOME                                       |EMPRESA_NACIONALIDADE|ANO |MES|AEROPORTO_DE_ORIGEM_SIGLA|AEROPORTO_DE_ORIGEM_NOME|AEROPORTO_DE_ORIGEM_UF|AEROPORTO_DE_ORIGEM_REGIAO|AEROPORTO_DE_ORIGEM_PAIS|AEROPORTO_DE_ORIGEM_CONTINENTE|AEROPORTO_DE_DESTINO_SIGLA|AEROPORTO_DE_DESTINO_NOME|AEROPORTO_DE_DESTINO_UF|AEROPORTO_DE_DESTINO_REGIAO|AEROPORTO_DE_DESTINO_PAIS|AEROPORTO_DE_DESTINO_CONTINENTE|NATUREZA |GRUPO_DE_VOO|PASSAGEIROS_PAGOS|PASSAGEIROS_GRATIS|CARGA_PAGA_KG|CARGA_GRATIS_KG|CORREIO_KG|ASK    |RPK    |ATK   |RTK   |COMBUSTIVEL_LITROS|DISTANCIA_VOADA_KM|DECOLAGENS|CARGA_PAGA_KM|CARGA_GRATIS_KM|CORREIO_KM|ASSENTOS|PAYLOAD|HORAS_VOADAS|BAGAGEM_KG|\n",
      "+-------------+---------------------------------------------------+---------------------+----+---+-------------------------+------------------------+----------------------+--------------------------+------------------------+------------------------------+--------------------------+-------------------------+-----------------------+---------------------------+-------------------------+-------------------------------+---------+------------+-----------------+------------------+-------------+---------------+----------+-------+-------+------+------+------------------+------------------+----------+-------------+---------------+----------+--------+-------+------------+----------+\n",
      "|GLO          |GOL LINHAS AÉREAS S.A. (EX- VRG LINHAS AÉREAS S.A.)|BRASILEIRA           |2001|1  |SBBH                     |BELO HORIZONTE          |MG                    |SUDESTE                   |BRASIL                  |AMÉRICA DO SUL                |SBSP                      |SÃO PAULO                |SP                     |SUDESTE                    |BRASIL                   |AMÉRICA DO SUL                 |DOMÉSTICA|REGULAR     |1111             |0                 |106          |0              |0         |3495740|887040 |409887|76727 |119209            |25704             |51        |53424        |0              |0         |6936    |813297 |46,63       |19263     |\n",
      "|GLO          |GOL LINHAS AÉREAS S.A. (EX- VRG LINHAS AÉREAS S.A.)|BRASILEIRA           |2001|1  |SBBH                     |BELO HORIZONTE          |MG                    |SUDESTE                   |BRASIL                  |AMÉRICA DO SUL                |SBSV                      |SALVADOR                 |BA                     |NORDESTE                   |BRASIL                   |AMÉRICA DO SUL                 |DOMÉSTICA|REGULAR     |150              |0                 |1090         |0              |0         |6783410|743280 |795396|67371 |156232            |49878             |51        |3238160      |0              |0         |6936    |813297 |65,46       |7648      |\n",
      "|GLO          |GOL LINHAS AÉREAS S.A. (EX- VRG LINHAS AÉREAS S.A.)|BRASILEIRA           |2001|1  |SBBR                     |BRASÍLIA                |DF                    |CENTRO-OESTE              |BRASIL                  |AMÉRICA DO SUL                |SBGL                      |RIO DE JANEIRO           |RJ                     |SUDESTE                    |BRASIL                   |AMÉRICA DO SUL                 |DOMÉSTICA|REGULAR     |1255             |0                 |40           |19             |0         |6339500|1172660|743325|99989 |192000            |46614             |51        |36560        |17366          |0         |6936    |813297 |84,44       |11002     |\n",
      "|GLO          |GOL LINHAS AÉREAS S.A. (EX- VRG LINHAS AÉREAS S.A.)|BRASILEIRA           |2001|1  |SBBR                     |BRASÍLIA                |DF                    |CENTRO-OESTE              |BRASIL                  |AMÉRICA DO SUL                |SBSP                      |SÃO PAULO                |SP                     |SUDESTE                    |BRASIL                   |AMÉRICA DO SUL                 |DOMÉSTICA|REGULAR     |2858             |3                 |690          |0              |0         |6055130|2845110|709971|248260|213849            |44523             |51        |759510       |0              |0         |6936    |813297 |84,78       |40387     |\n",
      "|GLO          |GOL LINHAS AÉREAS S.A. (EX- VRG LINHAS AÉREAS S.A.)|BRASILEIRA           |2001|1  |SBBR                     |BRASÍLIA                |DF                    |CENTRO-OESTE              |BRASIL                  |AMÉRICA DO SUL                |SBSV                      |SALVADOR                 |BA                     |NORDESTE                   |BRASIL                   |AMÉRICA DO SUL                 |DOMÉSTICA|REGULAR     |642              |0                 |147          |0              |0         |5017040|1144680|588268|97950 |144837            |36890             |34        |456785       |325500         |0         |4624    |542198 |62,39       |10576     |\n",
      "|GLO          |GOL LINHAS AÉREAS S.A. (EX- VRG LINHAS AÉREAS S.A.)|BRASILEIRA           |2001|1  |SBFL                     |FLORIANÓPOLIS           |SC                    |SUL                       |BRASIL                  |AMÉRICA DO SUL                |SBGL                      |RIO DE JANEIRO           |RJ                     |SUDESTE                    |BRASIL                   |AMÉRICA DO SUL                 |DOMÉSTICA|REGULAR     |1666             |0                 |6784         |0              |0         |NULL   |NULL   |NULL  |NULL  |NULL              |NULL              |NULL      |NULL         |NULL           |NULL      |NULL    |NULL   |NULL        |38848     |\n",
      "|GLO          |GOL LINHAS AÉREAS S.A. (EX- VRG LINHAS AÉREAS S.A.)|BRASILEIRA           |2001|1  |SBFL                     |FLORIANÓPOLIS           |SC                    |SUL                       |BRASIL                  |AMÉRICA DO SUL                |SBPA                      |PORTO ALEGRE             |RS                     |SUL                        |BRASIL                   |AMÉRICA DO SUL                 |DOMÉSTICA|REGULAR     |1183             |17                |1945         |0              |0         |2517770|1188820|295188|114383|106796            |18513             |51        |1588850      |14883          |0         |6936    |813297 |42,72       |25396     |\n",
      "|GLO          |GOL LINHAS AÉREAS S.A. (EX- VRG LINHAS AÉREAS S.A.)|BRASILEIRA           |2001|1  |SBFL                     |FLORIANÓPOLIS           |SC                    |SUL                       |BRASIL                  |AMÉRICA DO SUL                |SBSP                      |SÃO PAULO                |SP                     |SUDESTE                    |BRASIL                   |AMÉRICA DO SUL                 |DOMÉSTICA|REGULAR     |2075             |0                 |10370        |0              |0         |3384770|2937760|396882|273856|128721            |24888             |51        |9940070      |0              |0         |6936    |813297 |48,84       |42778     |\n",
      "|GLO          |GOL LINHAS AÉREAS S.A. (EX- VRG LINHAS AÉREAS S.A.)|BRASILEIRA           |2001|1  |SBGL                     |RIO DE JANEIRO          |RJ                    |SUDESTE                   |BRASIL                  |AMÉRICA DO SUL                |SBBR                      |BRASÍLIA                 |DF                     |CENTRO-OESTE               |BRASIL                   |AMÉRICA DO SUL                 |DOMÉSTICA|REGULAR     |2012             |0                 |3494         |0              |0         |6339500|1960530|743325|169622|219501            |46614             |51        |3193520      |0              |0         |6936    |813297 |82,74       |21122     |\n",
      "|GLO          |GOL LINHAS AÉREAS S.A. (EX- VRG LINHAS AÉREAS S.A.)|BRASILEIRA           |2001|1  |SBGL                     |RIO DE JANEIRO          |RJ                    |SUDESTE                   |BRASIL                  |AMÉRICA DO SUL                |SBFL                      |FLORIANÓPOLIS            |SC                     |SUL                        |BRASIL                   |AMÉRICA DO SUL                 |DOMÉSTICA|REGULAR     |361              |0                 |1450         |0              |0         |NULL   |NULL   |NULL  |NULL  |NULL              |NULL              |NULL      |NULL         |NULL           |NULL      |NULL    |NULL   |NULL        |50        |\n",
      "|GLO          |GOL LINHAS AÉREAS S.A. (EX- VRG LINHAS AÉREAS S.A.)|BRASILEIRA           |2001|1  |SBGL                     |RIO DE JANEIRO          |RJ                    |SUDESTE                   |BRASIL                  |AMÉRICA DO SUL                |SBPA                      |PORTO ALEGRE             |RS                     |SUL                        |BRASIL                   |AMÉRICA DO SUL                 |DOMÉSTICA|REGULAR     |348              |0                 |0            |0              |0         |NULL   |NULL   |NULL  |NULL  |NULL              |NULL              |NULL      |NULL         |NULL           |NULL      |NULL    |NULL   |NULL        |200       |\n",
      "|GLO          |GOL LINHAS AÉREAS S.A. (EX- VRG LINHAS AÉREAS S.A.)|BRASILEIRA           |2001|1  |SBGL                     |RIO DE JANEIRO          |RJ                    |SUDESTE                   |BRASIL                  |AMÉRICA DO SUL                |SBSP                      |SÃO PAULO                |SP                     |SUDESTE                    |BRASIL                   |AMÉRICA DO SUL                 |DOMÉSTICA|REGULAR     |6504             |0                 |7513         |0              |671       |4161600|2606760|487900|221248|244251            |30600             |85        |3226680      |0              |241560    |11560   |1355500|92,46       |59554     |\n",
      "|GLO          |GOL LINHAS AÉREAS S.A. (EX- VRG LINHAS AÉREAS S.A.)|BRASILEIRA           |2001|1  |SBGL                     |RIO DE JANEIRO          |RJ                    |SUDESTE                   |BRASIL                  |AMÉRICA DO SUL                |SBSV                      |SALVADOR                 |BA                     |NORDESTE                   |BRASIL                   |AMÉRICA DO SUL                 |DOMÉSTICA|REGULAR     |621              |0                 |659          |0              |0         |2816020|756378 |330191|66342 |79998             |20706             |17        |802662       |0              |0         |2312    |271099 |34,12       |7242      |\n",
      "|GLO          |GOL LINHAS AÉREAS S.A. (EX- VRG LINHAS AÉREAS S.A.)|BRASILEIRA           |2001|1  |SBPA                     |PORTO ALEGRE            |RS                    |SUL                       |BRASIL                  |AMÉRICA DO SUL                |SBFL                      |FLORIANÓPOLIS            |SC                     |SUL                        |BRASIL                   |AMÉRICA DO SUL                 |DOMÉSTICA|REGULAR     |1204             |0                 |2947         |0              |0         |2517770|1264330|295188|108352|110256            |18513             |51        |2236810      |0              |0         |6936    |813297 |41,29       |23433     |\n",
      "|GLO          |GOL LINHAS AÉREAS S.A. (EX- VRG LINHAS AÉREAS S.A.)|BRASILEIRA           |2001|1  |SBPA                     |PORTO ALEGRE            |RS                    |SUL                       |BRASIL                  |AMÉRICA DO SUL                |SBGL                      |RIO DE JANEIRO           |RJ                     |SUDESTE                    |BRASIL                   |AMÉRICA DO SUL                 |DOMÉSTICA|REGULAR     |495              |0                 |0            |0              |0         |NULL   |NULL   |NULL  |NULL  |NULL              |NULL              |NULL      |NULL         |NULL           |NULL      |NULL    |NULL   |NULL        |2186      |\n",
      "|GLO          |GOL LINHAS AÉREAS S.A. (EX- VRG LINHAS AÉREAS S.A.)|BRASILEIRA           |2001|1  |SBPA                     |PORTO ALEGRE            |RS                    |SUL                       |BRASIL                  |AMÉRICA DO SUL                |SBSP                      |SÃO PAULO                |SP                     |SUDESTE                    |BRASIL                   |AMÉRICA DO SUL                 |DOMÉSTICA|REGULAR     |1784             |0                 |3215         |0              |0         |NULL   |NULL   |NULL  |NULL  |NULL              |NULL              |NULL      |NULL         |NULL           |NULL      |NULL    |NULL   |NULL        |5546      |\n",
      "|GLO          |GOL LINHAS AÉREAS S.A. (EX- VRG LINHAS AÉREAS S.A.)|BRASILEIRA           |2001|1  |SBSP                     |SÃO PAULO               |SP                    |SUDESTE                   |BRASIL                  |AMÉRICA DO SUL                |SBBH                      |BELO HORIZONTE           |MG                     |SUDESTE                    |BRASIL                   |AMÉRICA DO SUL                 |DOMÉSTICA|REGULAR     |1095             |0                 |660          |37             |0         |3495740|859320 |409887|73336 |117673            |25704             |51        |1452020      |18648          |0         |6936    |813297 |45,59       |13845     |\n",
      "|GLO          |GOL LINHAS AÉREAS S.A. (EX- VRG LINHAS AÉREAS S.A.)|BRASILEIRA           |2001|1  |SBSP                     |SÃO PAULO               |SP                    |SUDESTE                   |BRASIL                  |AMÉRICA DO SUL                |SBBR                      |BRASÍLIA                 |DF                     |CENTRO-OESTE               |BRASIL                   |AMÉRICA DO SUL                 |DOMÉSTICA|REGULAR     |2568             |0                 |3737         |1174           |0         |6055130|2486300|709971|216836|216926            |44523             |51        |3501600      |1286800        |0         |6936    |813297 |84,88       |30750     |\n",
      "|GLO          |GOL LINHAS AÉREAS S.A. (EX- VRG LINHAS AÉREAS S.A.)|BRASILEIRA           |2001|1  |SBSP                     |SÃO PAULO               |SP                    |SUDESTE                   |BRASIL                  |AMÉRICA DO SUL                |SBFL                      |FLORIANÓPOLIS            |SC                     |SUL                        |BRASIL                   |AMÉRICA DO SUL                 |DOMÉSTICA|REGULAR     |3475             |0                 |5629         |82             |0         |3384770|2892860|396882|261224|125309            |24888             |51        |4641370      |60024          |0         |6936    |813297 |51,78       |41410     |\n",
      "|GLO          |GOL LINHAS AÉREAS S.A. (EX- VRG LINHAS AÉREAS S.A.)|BRASILEIRA           |2001|1  |SBSP                     |SÃO PAULO               |SP                    |SUDESTE                   |BRASIL                  |AMÉRICA DO SUL                |SBGL                      |RIO DE JANEIRO           |RJ                     |SUDESTE                    |BRASIL                   |AMÉRICA DO SUL                 |DOMÉSTICA|REGULAR     |6132             |8                 |7293         |0              |0         |4161600|3033360|487900|266568|187263            |30600             |85        |5067720      |0              |0         |11560   |1355500|80,88       |53402     |\n",
      "+-------------+---------------------------------------------------+---------------------+----+---+-------------------------+------------------------+----------------------+--------------------------+------------------------+------------------------------+--------------------------+-------------------------+-----------------------+---------------------------+-------------------------+-------------------------------+---------+------------+-----------------+------------------+-------------+---------------+----------+-------+-------+------+------+------------------+------------------+----------+-------------+---------------+----------+--------+-------+------------+----------+\n",
      "only showing top 20 rows\n",
      "\n"
     ]
    }
   ],
   "source": [
    "# Filtro\n",
    "df_filtrado = df.filter(\n",
    "    (df[\"EMPRESA_SIGLA\"] == \"GLO\") &\n",
    "    (df[\"GRUPO_DE_VOO\"] == \"REGULAR\") &\n",
    "    (df[\"NATUREZA\"] == \"DOMÉSTICA\")\n",
    ")\n",
    "\n",
    "# Exibir os dados filtrados\n",
    "df_filtrado.show(truncate=False)"
   ]
  },
  {
   "cell_type": "markdown",
   "metadata": {},
   "source": [
    "Criando um data com os campos que preciso"
   ]
  },
  {
   "cell_type": "code",
   "execution_count": 11,
   "metadata": {},
   "outputs": [
    {
     "name": "stdout",
     "output_type": "stream",
     "text": [
      "+---+----+-------+--------+\n",
      "|MES|ANO |RPK    |MERCADO |\n",
      "+---+----+-------+--------+\n",
      "|01 |2001|887040 |SBBHSBSP|\n",
      "|01 |2001|743280 |SBBHSBSV|\n",
      "|01 |2001|1172660|SBBRSBGL|\n",
      "|01 |2001|2845110|SBBRSBSP|\n",
      "|01 |2001|1144680|SBBRSBSV|\n",
      "+---+----+-------+--------+\n",
      "only showing top 5 rows\n",
      "\n"
     ]
    }
   ],
   "source": [
    "df_prep = df_filtrado.select(\n",
    "    \"MES\", \n",
    "    \"ANO\", \n",
    "    \"RPK\", \n",
    "    concat(df_filtrado[\"AEROPORTO_DE_ORIGEM_SIGLA\"], df_filtrado[\"AEROPORTO_DE_DESTINO_SIGLA\"]).alias(\"MERCADO\")\n",
    ")\n",
    "\n",
    "df_final = df_prep.na.drop()\n",
    "\n",
    "df_final = df_final.withColumn(\n",
    "    \"MES\", \n",
    "    F.when(df_final[\"MES\"] == 1, \"01\")\n",
    "     .otherwise(F.when(df_final[\"MES\"].isin([10, 11, 12]), df_final[\"MES\"])\n",
    "     .otherwise(F.lpad(df_final[\"MES\"].cast(\"string\"), 2, '0')))\n",
    ")\n",
    "\n",
    "df_final.show(5, truncate=False)"
   ]
  },
  {
   "cell_type": "markdown",
   "metadata": {},
   "source": [
    "Conectando com o PSQL"
   ]
  },
  {
   "cell_type": "code",
   "execution_count": null,
   "metadata": {},
   "outputs": [],
   "source": [
    "from pyspark.sql import SparkSession\n",
    "\n",
    "jdbc_driver_path = \"C:/Users/User/AppData/Local/Programs/Python/Python311/Lib/site-packages/pyspark/jars/postgresql-42.7.5.jar\"\n",
    "\n",
    "spark = SparkSession.builder \\\n",
    "    .appName(\"PostgreSQL Connection\") \\\n",
    "    .config(\"spark.jars\", jdbc_driver_path) \\\n",
    "    .config(\"spark.driver.extraClassPath\", jdbc_driver_path) \\\n",
    "    .getOrCreate()\n",
    "\n",
    "database_url = \"jdbc:postgresql://localhost:5432/anac\"\n"
   ]
  },
  {
   "cell_type": "markdown",
   "metadata": {},
   "source": [
    "Escrevendo o PSQL"
   ]
  },
  {
   "cell_type": "code",
   "execution_count": 13,
   "metadata": {},
   "outputs": [
    {
     "ename": "Py4JJavaError",
     "evalue": "An error occurred while calling o174.save.\n: org.postgresql.util.PSQLException: A tentativa de conexão falhou.\r\n\tat org.postgresql.core.v3.ConnectionFactoryImpl.openConnectionImpl(ConnectionFactoryImpl.java:354)\r\n\tat org.postgresql.core.ConnectionFactory.openConnection(ConnectionFactory.java:54)\r\n\tat org.postgresql.jdbc.PgConnection.<init>(PgConnection.java:253)\r\n\tat org.postgresql.Driver.makeConnection(Driver.java:434)\r\n\tat org.postgresql.Driver.connect(Driver.java:291)\r\n\tat org.apache.spark.sql.execution.datasources.jdbc.connection.BasicConnectionProvider.getConnection(BasicConnectionProvider.scala:49)\r\n\tat org.apache.spark.sql.execution.datasources.jdbc.connection.ConnectionProviderBase.create(ConnectionProvider.scala:102)\r\n\tat org.apache.spark.sql.jdbc.JdbcDialect.$anonfun$createConnectionFactory$1(JdbcDialects.scala:161)\r\n\tat org.apache.spark.sql.jdbc.JdbcDialect.$anonfun$createConnectionFactory$1$adapted(JdbcDialects.scala:157)\r\n\tat org.apache.spark.sql.execution.datasources.jdbc.JdbcRelationProvider.createRelation(JdbcRelationProvider.scala:50)\r\n\tat org.apache.spark.sql.execution.datasources.SaveIntoDataSourceCommand.run(SaveIntoDataSourceCommand.scala:48)\r\n\tat org.apache.spark.sql.execution.command.ExecutedCommandExec.sideEffectResult$lzycompute(commands.scala:75)\r\n\tat org.apache.spark.sql.execution.command.ExecutedCommandExec.sideEffectResult(commands.scala:73)\r\n\tat org.apache.spark.sql.execution.command.ExecutedCommandExec.executeCollect(commands.scala:84)\r\n\tat org.apache.spark.sql.execution.QueryExecution$$anonfun$eagerlyExecuteCommands$1.$anonfun$applyOrElse$1(QueryExecution.scala:107)\r\n\tat org.apache.spark.sql.execution.SQLExecution$.$anonfun$withNewExecutionId$6(SQLExecution.scala:125)\r\n\tat org.apache.spark.sql.execution.SQLExecution$.withSQLConfPropagated(SQLExecution.scala:201)\r\n\tat org.apache.spark.sql.execution.SQLExecution$.$anonfun$withNewExecutionId$1(SQLExecution.scala:108)\r\n\tat org.apache.spark.sql.SparkSession.withActive(SparkSession.scala:900)\r\n\tat org.apache.spark.sql.execution.SQLExecution$.withNewExecutionId(SQLExecution.scala:66)\r\n\tat org.apache.spark.sql.execution.QueryExecution$$anonfun$eagerlyExecuteCommands$1.applyOrElse(QueryExecution.scala:107)\r\n\tat org.apache.spark.sql.execution.QueryExecution$$anonfun$eagerlyExecuteCommands$1.applyOrElse(QueryExecution.scala:98)\r\n\tat org.apache.spark.sql.catalyst.trees.TreeNode.$anonfun$transformDownWithPruning$1(TreeNode.scala:461)\r\n\tat org.apache.spark.sql.catalyst.trees.CurrentOrigin$.withOrigin(origin.scala:76)\r\n\tat org.apache.spark.sql.catalyst.trees.TreeNode.transformDownWithPruning(TreeNode.scala:461)\r\n\tat org.apache.spark.sql.catalyst.plans.logical.LogicalPlan.org$apache$spark$sql$catalyst$plans$logical$AnalysisHelper$$super$transformDownWithPruning(LogicalPlan.scala:32)\r\n\tat org.apache.spark.sql.catalyst.plans.logical.AnalysisHelper.transformDownWithPruning(AnalysisHelper.scala:267)\r\n\tat org.apache.spark.sql.catalyst.plans.logical.AnalysisHelper.transformDownWithPruning$(AnalysisHelper.scala:263)\r\n\tat org.apache.spark.sql.catalyst.plans.logical.LogicalPlan.transformDownWithPruning(LogicalPlan.scala:32)\r\n\tat org.apache.spark.sql.catalyst.plans.logical.LogicalPlan.transformDownWithPruning(LogicalPlan.scala:32)\r\n\tat org.apache.spark.sql.catalyst.trees.TreeNode.transformDown(TreeNode.scala:437)\r\n\tat org.apache.spark.sql.execution.QueryExecution.eagerlyExecuteCommands(QueryExecution.scala:98)\r\n\tat org.apache.spark.sql.execution.QueryExecution.commandExecuted$lzycompute(QueryExecution.scala:85)\r\n\tat org.apache.spark.sql.execution.QueryExecution.commandExecuted(QueryExecution.scala:83)\r\n\tat org.apache.spark.sql.execution.QueryExecution.assertCommandExecuted(QueryExecution.scala:142)\r\n\tat org.apache.spark.sql.DataFrameWriter.runCommand(DataFrameWriter.scala:869)\r\n\tat org.apache.spark.sql.DataFrameWriter.saveToV1Source(DataFrameWriter.scala:391)\r\n\tat org.apache.spark.sql.DataFrameWriter.saveInternal(DataFrameWriter.scala:364)\r\n\tat org.apache.spark.sql.DataFrameWriter.save(DataFrameWriter.scala:251)\r\n\tat sun.reflect.NativeMethodAccessorImpl.invoke0(Native Method)\r\n\tat sun.reflect.NativeMethodAccessorImpl.invoke(NativeMethodAccessorImpl.java:62)\r\n\tat sun.reflect.DelegatingMethodAccessorImpl.invoke(DelegatingMethodAccessorImpl.java:43)\r\n\tat java.lang.reflect.Method.invoke(Method.java:498)\r\n\tat py4j.reflection.MethodInvoker.invoke(MethodInvoker.java:244)\r\n\tat py4j.reflection.ReflectionEngine.invoke(ReflectionEngine.java:374)\r\n\tat py4j.Gateway.invoke(Gateway.java:282)\r\n\tat py4j.commands.AbstractCommand.invokeMethod(AbstractCommand.java:132)\r\n\tat py4j.commands.CallCommand.execute(CallCommand.java:79)\r\n\tat py4j.ClientServerConnection.waitForCommands(ClientServerConnection.java:182)\r\n\tat py4j.ClientServerConnection.run(ClientServerConnection.java:106)\r\n\tat java.lang.Thread.run(Thread.java:750)\r\nCaused by: java.net.UnknownHostException: postgresql\r\n\tat java.net.AbstractPlainSocketImpl.connect(AbstractPlainSocketImpl.java:184)\r\n\tat java.net.PlainSocketImpl.connect(PlainSocketImpl.java:172)\r\n\tat java.net.SocksSocketImpl.connect(SocksSocketImpl.java:392)\r\n\tat java.net.Socket.connect(Socket.java:607)\r\n\tat org.postgresql.core.PGStream.createSocket(PGStream.java:243)\r\n\tat org.postgresql.core.PGStream.<init>(PGStream.java:98)\r\n\tat org.postgresql.core.v3.ConnectionFactoryImpl.tryConnect(ConnectionFactoryImpl.java:132)\r\n\tat org.postgresql.core.v3.ConnectionFactoryImpl.openConnectionImpl(ConnectionFactoryImpl.java:258)\r\n\t... 50 more\r\n",
     "output_type": "error",
     "traceback": [
      "\u001b[1;31m---------------------------------------------------------------------------\u001b[0m",
      "\u001b[1;31mPy4JJavaError\u001b[0m                             Traceback (most recent call last)",
      "Cell \u001b[1;32mIn[13], line 13\u001b[0m\n\u001b[0;32m      1\u001b[0m df_DB \u001b[38;5;241m=\u001b[39m df_final\u001b[38;5;241m.\u001b[39mwithColumn(\u001b[38;5;124m\"\u001b[39m\u001b[38;5;124mmes\u001b[39m\u001b[38;5;124m\"\u001b[39m, col(\u001b[38;5;124m\"\u001b[39m\u001b[38;5;124mmes\u001b[39m\u001b[38;5;124m\"\u001b[39m)\u001b[38;5;241m.\u001b[39mcast(\u001b[38;5;124m\"\u001b[39m\u001b[38;5;124mint\u001b[39m\u001b[38;5;124m\"\u001b[39m)) \\\n\u001b[0;32m      2\u001b[0m              \u001b[38;5;241m.\u001b[39mwithColumn(\u001b[38;5;124m\"\u001b[39m\u001b[38;5;124mano\u001b[39m\u001b[38;5;124m\"\u001b[39m, col(\u001b[38;5;124m\"\u001b[39m\u001b[38;5;124mano\u001b[39m\u001b[38;5;124m\"\u001b[39m)\u001b[38;5;241m.\u001b[39mcast(\u001b[38;5;124m\"\u001b[39m\u001b[38;5;124mint\u001b[39m\u001b[38;5;124m\"\u001b[39m)) \\\n\u001b[0;32m      3\u001b[0m              \u001b[38;5;241m.\u001b[39mwithColumn(\u001b[38;5;124m\"\u001b[39m\u001b[38;5;124mrpk\u001b[39m\u001b[38;5;124m\"\u001b[39m, col(\u001b[38;5;124m\"\u001b[39m\u001b[38;5;124mrpk\u001b[39m\u001b[38;5;124m\"\u001b[39m)\u001b[38;5;241m.\u001b[39mcast(\u001b[38;5;124m\"\u001b[39m\u001b[38;5;124mdouble\u001b[39m\u001b[38;5;124m\"\u001b[39m))\n\u001b[0;32m      5\u001b[0m \u001b[43mdf_DB\u001b[49m\u001b[38;5;241;43m.\u001b[39;49m\u001b[43mwrite\u001b[49m\u001b[43m \u001b[49m\u001b[43m\\\u001b[49m\n\u001b[0;32m      6\u001b[0m \u001b[43m    \u001b[49m\u001b[38;5;241;43m.\u001b[39;49m\u001b[43mformat\u001b[49m\u001b[43m(\u001b[49m\u001b[38;5;124;43m\"\u001b[39;49m\u001b[38;5;124;43mjdbc\u001b[39;49m\u001b[38;5;124;43m\"\u001b[39;49m\u001b[43m)\u001b[49m\u001b[43m \u001b[49m\u001b[43m\\\u001b[49m\n\u001b[0;32m      7\u001b[0m \u001b[43m    \u001b[49m\u001b[38;5;241;43m.\u001b[39;49m\u001b[43moption\u001b[49m\u001b[43m(\u001b[49m\u001b[38;5;124;43m\"\u001b[39;49m\u001b[38;5;124;43murl\u001b[39;49m\u001b[38;5;124;43m\"\u001b[39;49m\u001b[43m,\u001b[49m\u001b[43m \u001b[49m\u001b[43mdatabase_url\u001b[49m\u001b[43m)\u001b[49m\u001b[43m \u001b[49m\u001b[43m\\\u001b[49m\n\u001b[0;32m      8\u001b[0m \u001b[43m    \u001b[49m\u001b[38;5;241;43m.\u001b[39;49m\u001b[43moption\u001b[49m\u001b[43m(\u001b[49m\u001b[38;5;124;43m\"\u001b[39;49m\u001b[38;5;124;43mdbtable\u001b[39;49m\u001b[38;5;124;43m\"\u001b[39;49m\u001b[43m,\u001b[49m\u001b[43m \u001b[49m\u001b[38;5;124;43m\"\u001b[39;49m\u001b[38;5;124;43mvoos\u001b[39;49m\u001b[38;5;124;43m\"\u001b[39;49m\u001b[43m)\u001b[49m\u001b[43m \u001b[49m\u001b[43m\\\u001b[49m\n\u001b[0;32m      9\u001b[0m \u001b[43m    \u001b[49m\u001b[38;5;241;43m.\u001b[39;49m\u001b[43moption\u001b[49m\u001b[43m(\u001b[49m\u001b[38;5;124;43m\"\u001b[39;49m\u001b[38;5;124;43muser\u001b[39;49m\u001b[38;5;124;43m\"\u001b[39;49m\u001b[43m,\u001b[49m\u001b[43m \u001b[49m\u001b[38;5;124;43m\"\u001b[39;49m\u001b[38;5;124;43mroot\u001b[39;49m\u001b[38;5;124;43m\"\u001b[39;49m\u001b[43m)\u001b[49m\u001b[43m \u001b[49m\u001b[43m\\\u001b[49m\n\u001b[0;32m     10\u001b[0m \u001b[43m    \u001b[49m\u001b[38;5;241;43m.\u001b[39;49m\u001b[43moption\u001b[49m\u001b[43m(\u001b[49m\u001b[38;5;124;43m\"\u001b[39;49m\u001b[38;5;124;43mpassword\u001b[39;49m\u001b[38;5;124;43m\"\u001b[39;49m\u001b[43m,\u001b[49m\u001b[43m \u001b[49m\u001b[38;5;124;43m\"\u001b[39;49m\u001b[38;5;124;43mroot\u001b[39;49m\u001b[38;5;124;43m\"\u001b[39;49m\u001b[43m)\u001b[49m\u001b[43m \u001b[49m\u001b[43m\\\u001b[49m\n\u001b[0;32m     11\u001b[0m \u001b[43m    \u001b[49m\u001b[38;5;241;43m.\u001b[39;49m\u001b[43moption\u001b[49m\u001b[43m(\u001b[49m\u001b[38;5;124;43m\"\u001b[39;49m\u001b[38;5;124;43mdriver\u001b[39;49m\u001b[38;5;124;43m\"\u001b[39;49m\u001b[43m,\u001b[49m\u001b[43m \u001b[49m\u001b[38;5;124;43m\"\u001b[39;49m\u001b[38;5;124;43morg.postgresql.Driver\u001b[39;49m\u001b[38;5;124;43m\"\u001b[39;49m\u001b[43m)\u001b[49m\u001b[43m \u001b[49m\u001b[43m\\\u001b[49m\n\u001b[0;32m     12\u001b[0m \u001b[43m    \u001b[49m\u001b[38;5;241;43m.\u001b[39;49m\u001b[43mmode\u001b[49m\u001b[43m(\u001b[49m\u001b[38;5;124;43m\"\u001b[39;49m\u001b[38;5;124;43mappend\u001b[39;49m\u001b[38;5;124;43m\"\u001b[39;49m\u001b[43m)\u001b[49m\u001b[43m \u001b[49m\u001b[43m\\\u001b[49m\n\u001b[1;32m---> 13\u001b[0m \u001b[43m    \u001b[49m\u001b[38;5;241;43m.\u001b[39;49m\u001b[43msave\u001b[49m\u001b[43m(\u001b[49m\u001b[43m)\u001b[49m\n",
      "File \u001b[1;32mc:\\Users\\User\\Documents\\Estudos_Dev\\Backend\\backend_python_gol\\env\\Lib\\site-packages\\pyspark\\sql\\readwriter.py:1461\u001b[0m, in \u001b[0;36mDataFrameWriter.save\u001b[1;34m(self, path, format, mode, partitionBy, **options)\u001b[0m\n\u001b[0;32m   1459\u001b[0m     \u001b[38;5;28mself\u001b[39m\u001b[38;5;241m.\u001b[39mformat(\u001b[38;5;28mformat\u001b[39m)\n\u001b[0;32m   1460\u001b[0m \u001b[38;5;28;01mif\u001b[39;00m path \u001b[38;5;129;01mis\u001b[39;00m \u001b[38;5;28;01mNone\u001b[39;00m:\n\u001b[1;32m-> 1461\u001b[0m     \u001b[38;5;28;43mself\u001b[39;49m\u001b[38;5;241;43m.\u001b[39;49m\u001b[43m_jwrite\u001b[49m\u001b[38;5;241;43m.\u001b[39;49m\u001b[43msave\u001b[49m\u001b[43m(\u001b[49m\u001b[43m)\u001b[49m\n\u001b[0;32m   1462\u001b[0m \u001b[38;5;28;01melse\u001b[39;00m:\n\u001b[0;32m   1463\u001b[0m     \u001b[38;5;28mself\u001b[39m\u001b[38;5;241m.\u001b[39m_jwrite\u001b[38;5;241m.\u001b[39msave(path)\n",
      "File \u001b[1;32m~\\AppData\\Local\\Programs\\Python\\Python311\\Lib\\site-packages\\pyspark\\python\\lib\\py4j-0.10.9.7-src.zip\\py4j\\java_gateway.py:1322\u001b[0m, in \u001b[0;36mJavaMember.__call__\u001b[1;34m(self, *args)\u001b[0m\n\u001b[0;32m   1316\u001b[0m command \u001b[38;5;241m=\u001b[39m proto\u001b[38;5;241m.\u001b[39mCALL_COMMAND_NAME \u001b[38;5;241m+\u001b[39m\\\n\u001b[0;32m   1317\u001b[0m     \u001b[38;5;28mself\u001b[39m\u001b[38;5;241m.\u001b[39mcommand_header \u001b[38;5;241m+\u001b[39m\\\n\u001b[0;32m   1318\u001b[0m     args_command \u001b[38;5;241m+\u001b[39m\\\n\u001b[0;32m   1319\u001b[0m     proto\u001b[38;5;241m.\u001b[39mEND_COMMAND_PART\n\u001b[0;32m   1321\u001b[0m answer \u001b[38;5;241m=\u001b[39m \u001b[38;5;28mself\u001b[39m\u001b[38;5;241m.\u001b[39mgateway_client\u001b[38;5;241m.\u001b[39msend_command(command)\n\u001b[1;32m-> 1322\u001b[0m return_value \u001b[38;5;241m=\u001b[39m \u001b[43mget_return_value\u001b[49m\u001b[43m(\u001b[49m\n\u001b[0;32m   1323\u001b[0m \u001b[43m    \u001b[49m\u001b[43manswer\u001b[49m\u001b[43m,\u001b[49m\u001b[43m \u001b[49m\u001b[38;5;28;43mself\u001b[39;49m\u001b[38;5;241;43m.\u001b[39;49m\u001b[43mgateway_client\u001b[49m\u001b[43m,\u001b[49m\u001b[43m \u001b[49m\u001b[38;5;28;43mself\u001b[39;49m\u001b[38;5;241;43m.\u001b[39;49m\u001b[43mtarget_id\u001b[49m\u001b[43m,\u001b[49m\u001b[43m \u001b[49m\u001b[38;5;28;43mself\u001b[39;49m\u001b[38;5;241;43m.\u001b[39;49m\u001b[43mname\u001b[49m\u001b[43m)\u001b[49m\n\u001b[0;32m   1325\u001b[0m \u001b[38;5;28;01mfor\u001b[39;00m temp_arg \u001b[38;5;129;01min\u001b[39;00m temp_args:\n\u001b[0;32m   1326\u001b[0m     \u001b[38;5;28;01mif\u001b[39;00m \u001b[38;5;28mhasattr\u001b[39m(temp_arg, \u001b[38;5;124m\"\u001b[39m\u001b[38;5;124m_detach\u001b[39m\u001b[38;5;124m\"\u001b[39m):\n",
      "File \u001b[1;32mc:\\Users\\User\\Documents\\Estudos_Dev\\Backend\\backend_python_gol\\env\\Lib\\site-packages\\pyspark\\errors\\exceptions\\captured.py:179\u001b[0m, in \u001b[0;36mcapture_sql_exception.<locals>.deco\u001b[1;34m(*a, **kw)\u001b[0m\n\u001b[0;32m    177\u001b[0m \u001b[38;5;28;01mdef\u001b[39;00m\u001b[38;5;250m \u001b[39m\u001b[38;5;21mdeco\u001b[39m(\u001b[38;5;241m*\u001b[39ma: Any, \u001b[38;5;241m*\u001b[39m\u001b[38;5;241m*\u001b[39mkw: Any) \u001b[38;5;241m-\u001b[39m\u001b[38;5;241m>\u001b[39m Any:\n\u001b[0;32m    178\u001b[0m     \u001b[38;5;28;01mtry\u001b[39;00m:\n\u001b[1;32m--> 179\u001b[0m         \u001b[38;5;28;01mreturn\u001b[39;00m \u001b[43mf\u001b[49m\u001b[43m(\u001b[49m\u001b[38;5;241;43m*\u001b[39;49m\u001b[43ma\u001b[49m\u001b[43m,\u001b[49m\u001b[43m \u001b[49m\u001b[38;5;241;43m*\u001b[39;49m\u001b[38;5;241;43m*\u001b[39;49m\u001b[43mkw\u001b[49m\u001b[43m)\u001b[49m\n\u001b[0;32m    180\u001b[0m     \u001b[38;5;28;01mexcept\u001b[39;00m Py4JJavaError \u001b[38;5;28;01mas\u001b[39;00m e:\n\u001b[0;32m    181\u001b[0m         converted \u001b[38;5;241m=\u001b[39m convert_exception(e\u001b[38;5;241m.\u001b[39mjava_exception)\n",
      "File \u001b[1;32m~\\AppData\\Local\\Programs\\Python\\Python311\\Lib\\site-packages\\pyspark\\python\\lib\\py4j-0.10.9.7-src.zip\\py4j\\protocol.py:326\u001b[0m, in \u001b[0;36mget_return_value\u001b[1;34m(answer, gateway_client, target_id, name)\u001b[0m\n\u001b[0;32m    324\u001b[0m value \u001b[38;5;241m=\u001b[39m OUTPUT_CONVERTER[\u001b[38;5;28mtype\u001b[39m](answer[\u001b[38;5;241m2\u001b[39m:], gateway_client)\n\u001b[0;32m    325\u001b[0m \u001b[38;5;28;01mif\u001b[39;00m answer[\u001b[38;5;241m1\u001b[39m] \u001b[38;5;241m==\u001b[39m REFERENCE_TYPE:\n\u001b[1;32m--> 326\u001b[0m     \u001b[38;5;28;01mraise\u001b[39;00m Py4JJavaError(\n\u001b[0;32m    327\u001b[0m         \u001b[38;5;124m\"\u001b[39m\u001b[38;5;124mAn error occurred while calling \u001b[39m\u001b[38;5;132;01m{0}\u001b[39;00m\u001b[38;5;132;01m{1}\u001b[39;00m\u001b[38;5;132;01m{2}\u001b[39;00m\u001b[38;5;124m.\u001b[39m\u001b[38;5;130;01m\\n\u001b[39;00m\u001b[38;5;124m\"\u001b[39m\u001b[38;5;241m.\u001b[39m\n\u001b[0;32m    328\u001b[0m         \u001b[38;5;28mformat\u001b[39m(target_id, \u001b[38;5;124m\"\u001b[39m\u001b[38;5;124m.\u001b[39m\u001b[38;5;124m\"\u001b[39m, name), value)\n\u001b[0;32m    329\u001b[0m \u001b[38;5;28;01melse\u001b[39;00m:\n\u001b[0;32m    330\u001b[0m     \u001b[38;5;28;01mraise\u001b[39;00m Py4JError(\n\u001b[0;32m    331\u001b[0m         \u001b[38;5;124m\"\u001b[39m\u001b[38;5;124mAn error occurred while calling \u001b[39m\u001b[38;5;132;01m{0}\u001b[39;00m\u001b[38;5;132;01m{1}\u001b[39;00m\u001b[38;5;132;01m{2}\u001b[39;00m\u001b[38;5;124m. Trace:\u001b[39m\u001b[38;5;130;01m\\n\u001b[39;00m\u001b[38;5;132;01m{3}\u001b[39;00m\u001b[38;5;130;01m\\n\u001b[39;00m\u001b[38;5;124m\"\u001b[39m\u001b[38;5;241m.\u001b[39m\n\u001b[0;32m    332\u001b[0m         \u001b[38;5;28mformat\u001b[39m(target_id, \u001b[38;5;124m\"\u001b[39m\u001b[38;5;124m.\u001b[39m\u001b[38;5;124m\"\u001b[39m, name, value))\n",
      "\u001b[1;31mPy4JJavaError\u001b[0m: An error occurred while calling o174.save.\n: org.postgresql.util.PSQLException: A tentativa de conexão falhou.\r\n\tat org.postgresql.core.v3.ConnectionFactoryImpl.openConnectionImpl(ConnectionFactoryImpl.java:354)\r\n\tat org.postgresql.core.ConnectionFactory.openConnection(ConnectionFactory.java:54)\r\n\tat org.postgresql.jdbc.PgConnection.<init>(PgConnection.java:253)\r\n\tat org.postgresql.Driver.makeConnection(Driver.java:434)\r\n\tat org.postgresql.Driver.connect(Driver.java:291)\r\n\tat org.apache.spark.sql.execution.datasources.jdbc.connection.BasicConnectionProvider.getConnection(BasicConnectionProvider.scala:49)\r\n\tat org.apache.spark.sql.execution.datasources.jdbc.connection.ConnectionProviderBase.create(ConnectionProvider.scala:102)\r\n\tat org.apache.spark.sql.jdbc.JdbcDialect.$anonfun$createConnectionFactory$1(JdbcDialects.scala:161)\r\n\tat org.apache.spark.sql.jdbc.JdbcDialect.$anonfun$createConnectionFactory$1$adapted(JdbcDialects.scala:157)\r\n\tat org.apache.spark.sql.execution.datasources.jdbc.JdbcRelationProvider.createRelation(JdbcRelationProvider.scala:50)\r\n\tat org.apache.spark.sql.execution.datasources.SaveIntoDataSourceCommand.run(SaveIntoDataSourceCommand.scala:48)\r\n\tat org.apache.spark.sql.execution.command.ExecutedCommandExec.sideEffectResult$lzycompute(commands.scala:75)\r\n\tat org.apache.spark.sql.execution.command.ExecutedCommandExec.sideEffectResult(commands.scala:73)\r\n\tat org.apache.spark.sql.execution.command.ExecutedCommandExec.executeCollect(commands.scala:84)\r\n\tat org.apache.spark.sql.execution.QueryExecution$$anonfun$eagerlyExecuteCommands$1.$anonfun$applyOrElse$1(QueryExecution.scala:107)\r\n\tat org.apache.spark.sql.execution.SQLExecution$.$anonfun$withNewExecutionId$6(SQLExecution.scala:125)\r\n\tat org.apache.spark.sql.execution.SQLExecution$.withSQLConfPropagated(SQLExecution.scala:201)\r\n\tat org.apache.spark.sql.execution.SQLExecution$.$anonfun$withNewExecutionId$1(SQLExecution.scala:108)\r\n\tat org.apache.spark.sql.SparkSession.withActive(SparkSession.scala:900)\r\n\tat org.apache.spark.sql.execution.SQLExecution$.withNewExecutionId(SQLExecution.scala:66)\r\n\tat org.apache.spark.sql.execution.QueryExecution$$anonfun$eagerlyExecuteCommands$1.applyOrElse(QueryExecution.scala:107)\r\n\tat org.apache.spark.sql.execution.QueryExecution$$anonfun$eagerlyExecuteCommands$1.applyOrElse(QueryExecution.scala:98)\r\n\tat org.apache.spark.sql.catalyst.trees.TreeNode.$anonfun$transformDownWithPruning$1(TreeNode.scala:461)\r\n\tat org.apache.spark.sql.catalyst.trees.CurrentOrigin$.withOrigin(origin.scala:76)\r\n\tat org.apache.spark.sql.catalyst.trees.TreeNode.transformDownWithPruning(TreeNode.scala:461)\r\n\tat org.apache.spark.sql.catalyst.plans.logical.LogicalPlan.org$apache$spark$sql$catalyst$plans$logical$AnalysisHelper$$super$transformDownWithPruning(LogicalPlan.scala:32)\r\n\tat org.apache.spark.sql.catalyst.plans.logical.AnalysisHelper.transformDownWithPruning(AnalysisHelper.scala:267)\r\n\tat org.apache.spark.sql.catalyst.plans.logical.AnalysisHelper.transformDownWithPruning$(AnalysisHelper.scala:263)\r\n\tat org.apache.spark.sql.catalyst.plans.logical.LogicalPlan.transformDownWithPruning(LogicalPlan.scala:32)\r\n\tat org.apache.spark.sql.catalyst.plans.logical.LogicalPlan.transformDownWithPruning(LogicalPlan.scala:32)\r\n\tat org.apache.spark.sql.catalyst.trees.TreeNode.transformDown(TreeNode.scala:437)\r\n\tat org.apache.spark.sql.execution.QueryExecution.eagerlyExecuteCommands(QueryExecution.scala:98)\r\n\tat org.apache.spark.sql.execution.QueryExecution.commandExecuted$lzycompute(QueryExecution.scala:85)\r\n\tat org.apache.spark.sql.execution.QueryExecution.commandExecuted(QueryExecution.scala:83)\r\n\tat org.apache.spark.sql.execution.QueryExecution.assertCommandExecuted(QueryExecution.scala:142)\r\n\tat org.apache.spark.sql.DataFrameWriter.runCommand(DataFrameWriter.scala:869)\r\n\tat org.apache.spark.sql.DataFrameWriter.saveToV1Source(DataFrameWriter.scala:391)\r\n\tat org.apache.spark.sql.DataFrameWriter.saveInternal(DataFrameWriter.scala:364)\r\n\tat org.apache.spark.sql.DataFrameWriter.save(DataFrameWriter.scala:251)\r\n\tat sun.reflect.NativeMethodAccessorImpl.invoke0(Native Method)\r\n\tat sun.reflect.NativeMethodAccessorImpl.invoke(NativeMethodAccessorImpl.java:62)\r\n\tat sun.reflect.DelegatingMethodAccessorImpl.invoke(DelegatingMethodAccessorImpl.java:43)\r\n\tat java.lang.reflect.Method.invoke(Method.java:498)\r\n\tat py4j.reflection.MethodInvoker.invoke(MethodInvoker.java:244)\r\n\tat py4j.reflection.ReflectionEngine.invoke(ReflectionEngine.java:374)\r\n\tat py4j.Gateway.invoke(Gateway.java:282)\r\n\tat py4j.commands.AbstractCommand.invokeMethod(AbstractCommand.java:132)\r\n\tat py4j.commands.CallCommand.execute(CallCommand.java:79)\r\n\tat py4j.ClientServerConnection.waitForCommands(ClientServerConnection.java:182)\r\n\tat py4j.ClientServerConnection.run(ClientServerConnection.java:106)\r\n\tat java.lang.Thread.run(Thread.java:750)\r\nCaused by: java.net.UnknownHostException: postgresql\r\n\tat java.net.AbstractPlainSocketImpl.connect(AbstractPlainSocketImpl.java:184)\r\n\tat java.net.PlainSocketImpl.connect(PlainSocketImpl.java:172)\r\n\tat java.net.SocksSocketImpl.connect(SocksSocketImpl.java:392)\r\n\tat java.net.Socket.connect(Socket.java:607)\r\n\tat org.postgresql.core.PGStream.createSocket(PGStream.java:243)\r\n\tat org.postgresql.core.PGStream.<init>(PGStream.java:98)\r\n\tat org.postgresql.core.v3.ConnectionFactoryImpl.tryConnect(ConnectionFactoryImpl.java:132)\r\n\tat org.postgresql.core.v3.ConnectionFactoryImpl.openConnectionImpl(ConnectionFactoryImpl.java:258)\r\n\t... 50 more\r\n"
     ]
    }
   ],
   "source": [
    "df_DB = df_final.withColumn(\"mes\", col(\"mes\").cast(\"int\")) \\\n",
    "             .withColumn(\"ano\", col(\"ano\").cast(\"int\")) \\\n",
    "             .withColumn(\"rpk\", col(\"rpk\").cast(\"double\"))\n",
    "\n",
    "df_DB.write \\\n",
    "    .format(\"jdbc\") \\\n",
    "    .option(\"url\", database_url) \\\n",
    "    .option(\"dbtable\", \"voos\") \\\n",
    "    .option(\"user\", \"root\") \\\n",
    "    .option(\"password\", \"root\") \\\n",
    "    .option(\"driver\", \"org.postgresql.Driver\") \\\n",
    "    .mode(\"append\") \\\n",
    "    .save()"
   ]
  },
  {
   "cell_type": "markdown",
   "metadata": {},
   "source": [
    "Lendo o Banco PSQL"
   ]
  },
  {
   "cell_type": "code",
   "execution_count": null,
   "metadata": {},
   "outputs": [
    {
     "name": "stdout",
     "output_type": "stream",
     "text": [
      "+---+----+---+--------+---------+\n",
      "| id| ano|mes| mercado|      rpk|\n",
      "+---+----+---+--------+---------+\n",
      "|  1|2012|  6|SBILSBSV| 549900.0|\n",
      "|  2|2012|  6|SBIZSBBR|3975550.0|\n",
      "|  3|2012|  6|SBIZSBSL|1452580.0|\n",
      "|  4|2012|  6|SBJPSBAR|  40824.0|\n",
      "|  5|2012|  6|SBJPSBBR|6005780.0|\n",
      "|  6|2012|  6|SBJPSBGL|1.35814E7|\n",
      "|  7|2012|  6|SBJPSBGR|      0.0|\n",
      "|  8|2012|  6|SBJPSBSV|2562850.0|\n",
      "|  9|2012|  6|SBJUSBFZ| 868411.0|\n",
      "| 10|2012|  6|SBJUSBRF|1253910.0|\n",
      "| 11|2012|  6|SBJVSBKP|      0.0|\n",
      "| 12|2012|  6|SBJVSBSP|1388040.0|\n",
      "| 13|2012|  6|SBKGSBSV|3405680.0|\n",
      "| 14|2012|  6|SBKPSBBR|6066400.0|\n",
      "| 15|2012|  6|SBKPSBCF|4226530.0|\n",
      "| 16|2012|  6|SBKPSBCT|1379600.0|\n",
      "| 17|2012|  6|SBKPSBGL|5765030.0|\n",
      "| 18|2012|  6|SBKPSBGR|  38678.0|\n",
      "| 19|2012|  6|SBKPSBPA| 328624.0|\n",
      "| 20|2012|  6|SBKPSBSP|  21924.0|\n",
      "+---+----+---+--------+---------+\n",
      "only showing top 20 rows\n",
      "\n"
     ]
    }
   ],
   "source": [
    "properties = {\n",
    "    \"user\": \"root\",\n",
    "    \"password\": \"root\",\n",
    "    \"driver\": \"org.postgresql.Driver\"\n",
    "}\n",
    "# Lendo uma tabela\n",
    "df_DB = spark.read.jdbc(url=database_url, \n",
    "          table=\"voos\", \n",
    "          properties=properties)\n",
    "\n",
    "df_DB.show()"
   ]
  }
 ],
 "metadata": {
  "kernelspec": {
   "display_name": "env",
   "language": "python",
   "name": "python3"
  },
  "language_info": {
   "codemirror_mode": {
    "name": "ipython",
    "version": 3
   },
   "file_extension": ".py",
   "mimetype": "text/x-python",
   "name": "python",
   "nbconvert_exporter": "python",
   "pygments_lexer": "ipython3",
   "version": "3.11.0"
  }
 },
 "nbformat": 4,
 "nbformat_minor": 2
}
